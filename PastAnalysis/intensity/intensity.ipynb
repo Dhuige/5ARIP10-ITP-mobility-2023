{
 "cells": [
  {
   "cell_type": "code",
   "execution_count": 9,
   "metadata": {},
   "outputs": [
    {
     "name": "stdout",
     "output_type": "stream",
     "text": [
      "processing map 6...\r"
     ]
    }
   ],
   "source": [
    "import pandas as pd\n",
    "import os\n",
    "import csv\n",
    "\n",
    "# Location of Traffic Flow\n",
    "x1 = 0\n",
    "x2 = 2\n",
    "\n",
    "# Time Periord\n",
    "time_span = 1500 # seconds\n",
    "time_interval = 15 # seconds\n",
    "\n",
    "data_path = \"D:/荷兰/TUe/课程/Team Project/Dataset/highd-dataset-v1.0/data\"\n",
    "n_files = 60\n",
    "data_dict = {}\n",
    "\n",
    "# Map ID List\n",
    "map_ids = [1, 2, 3, 4, 5, 6]\n",
    "\n",
    "output_path = \"output\"\n",
    "\n",
    "if not os.path.exists(output_path):\n",
    "    os.makedirs(output_path)\n",
    "\n",
    "for map_id in map_ids:\n",
    "    print(f\"processing map {map_id}...\\r\", end=\"\")\n",
    "    \n",
    "    for i in range(n_files):\n",
    "        file_name1 = f\"{i+1:02d}_tracks.csv\"\n",
    "        file_path1 = os.path.join(data_path, file_name1)\n",
    "        file_name2 = f\"{i+1:02d}_recordingMeta.csv\"\n",
    "        file_path2 = os.path.join(data_path, file_name2)\n",
    "        recording_meta = pd.read_csv(file_path2)\n",
    "\n",
    "        if recording_meta[\"locationId\"][0] != map_id:\n",
    "            continue\n",
    "\n",
    "        tracks = pd.read_csv(file_path1)\n",
    "        file_base_name = os.path.splitext(file_name1)[0]\n",
    "        \n",
    "        counts1 = []\n",
    "\n",
    "        for t in range(0, time_span, time_interval):\n",
    "            # Calculating Forward Traffic Flow\n",
    "            mask1 = (tracks[\"frame\"] >= t * recording_meta[\"frameRate\"][0]) & (tracks[\"frame\"] < (t + time_interval) * recording_meta[\"frameRate\"][0]) & (tracks[\"x\"] >= x1) & (tracks[\"x\"] <= x2)\n",
    "            vehicles1 = tracks[mask1 & (tracks[\"y\"] >= 0)][\"id\"].unique()\n",
    "            count1 = len(vehicles1)\n",
    "            intensity1 = count1 / (time_interval / 60)\n",
    "            counts1.append(intensity1)\n",
    "\n",
    "        # Write traffic flow intensities to a CSV file\n",
    "        output_file_name = file_base_name + \".csv\"\n",
    "        output_file_path = os.path.join(output_path, output_file_name)\n",
    "        with open(output_file_path, mode='w', newline='') as output_file:\n",
    "            output_writer = csv.writer(output_file)\n",
    "            output_writer.writerow([\"Time (minutes)\", \"Traffic flow intensity (vehicles per 15 seconds)\"])\n",
    "            for t, (intensity1) in enumerate(zip(counts1)):\n",
    "                output_writer.writerow([t, intensity1])"
   ]
  }
 ],
 "metadata": {
  "kernelspec": {
   "display_name": "base",
   "language": "python",
   "name": "python3"
  },
  "language_info": {
   "codemirror_mode": {
    "name": "ipython",
    "version": 3
   },
   "file_extension": ".py",
   "mimetype": "text/x-python",
   "name": "python",
   "nbconvert_exporter": "python",
   "pygments_lexer": "ipython3",
   "version": "3.8.8"
  },
  "orig_nbformat": 4
 },
 "nbformat": 4,
 "nbformat_minor": 2
}
