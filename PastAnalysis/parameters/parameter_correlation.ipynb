{
 "cells": [
  {
   "attachments": {},
   "cell_type": "markdown",
   "metadata": {},
   "source": [
    "## Import Libraries"
   ]
  },
  {
   "cell_type": "code",
   "execution_count": 1,
   "metadata": {},
   "outputs": [],
   "source": [
    "import matplotlib.pyplot as plt\n",
    "import numpy as np\n",
    "import pandas as pd\n",
    "from sklearn.decomposition import PCA\n",
    "%run -i \"..\\open_files\"\n",
    "\n",
    "%matplotlib inline"
   ]
  },
  {
   "attachments": {},
   "cell_type": "markdown",
   "metadata": {},
   "source": [
    "## Open Files"
   ]
  },
  {
   "cell_type": "code",
   "execution_count": 14,
   "metadata": {},
   "outputs": [
    {
     "name": "stdout",
     "output_type": "stream",
     "text": [
      "reading file 10/10 (21)...\r"
     ]
    }
   ],
   "source": [
    "file_numbers, data_dict, trackMeta_dict, recordMeta_dict = read_files()\n",
    "# Two Lanes: 1,2,3,15,16,17,18,19,20,21"
   ]
  },
  {
   "attachments": {},
   "cell_type": "markdown",
   "metadata": {},
   "source": [
    "## Calculation of Speed"
   ]
  },
  {
   "cell_type": "code",
   "execution_count": 15,
   "metadata": {},
   "outputs": [],
   "source": [
    "car_speed = []\n",
    "truck_speed = []\n",
    "\n",
    "# Timestep for the parameters (in seconds)\n",
    "timestep = 60\n",
    "\n",
    "for i in (file_numbers):\n",
    "    # Get necessary information\n",
    "    data_merged = pd.merge(data_dict[f\"data_{i}\"], trackMeta_dict[f\"data_{i}\"][[\"id\", \"class\", \"drivingDirection\"]], on=\"id\")\n",
    "    framerate = recordMeta_dict[f\"data_{i}\"][\"frameRate\"].iloc[0]\n",
    "    duration = int(np.ceil(recordMeta_dict[f\"data_{i}\"][\"duration\"].iloc[0]))\n",
    "    frames = int(np.ceil(duration/timestep))\n",
    "\n",
    "    # Separate car and truck speed\n",
    "    car_df = data_merged[data_merged[\"class\"]==\"Car\"].copy()\n",
    "    truck_df = data_merged[data_merged[\"class\"]==\"Truck\"].copy()\n",
    "    car_xVel = car_df[\"xVelocity\"]\n",
    "    car_yVel = car_df[\"yVelocity\"]\n",
    "    truck_xVel = truck_df[\"xVelocity\"]\n",
    "    truck_yVel = truck_df[\"yVelocity\"]\n",
    "    \n",
    "    car_df[\"velocity\"] = np.sqrt(car_xVel**2+car_yVel**2)*3.6\n",
    "    truck_df[\"velocity\"] = np.sqrt(truck_xVel**2+truck_yVel**2)*3.6\n",
    "    \n",
    "    # Take average speed at each time step (1 sec)\n",
    "    for j in range(frames):\n",
    "        lb = (framerate*timestep*j)+1\n",
    "        ub = (j+1)*framerate*timestep\n",
    "        car_mean = car_df[(car_df[\"frame\"]>=lb) & (car_df[\"frame\"]<=ub) & (car_df[\"drivingDirection\"]==1)][\"velocity\"].mean()\n",
    "        truck_mean = truck_df[(truck_df[\"frame\"]>=lb) & (truck_df[\"frame\"]<=ub) & (truck_df[\"drivingDirection\"]==1)][\"velocity\"].mean()\n",
    "        car_speed.append(car_mean)\n",
    "        truck_speed.append(truck_mean)\n",
    "    car_speed = car_speed[:-1]\n",
    "    truck_speed = truck_speed[:-1]"
   ]
  },
  {
   "cell_type": "code",
   "execution_count": 16,
   "metadata": {},
   "outputs": [
    {
     "data": {
      "text/plain": [
       "146"
      ]
     },
     "execution_count": 16,
     "metadata": {},
     "output_type": "execute_result"
    }
   ],
   "source": [
    "len(truck_speed)"
   ]
  },
  {
   "attachments": {},
   "cell_type": "markdown",
   "metadata": {},
   "source": [
    "## Calculation of Density"
   ]
  },
  {
   "cell_type": "code",
   "execution_count": 17,
   "metadata": {},
   "outputs": [],
   "source": [
    "x1 = 0\n",
    "x2 = 420\n",
    "lane_length = x2 - x1\n",
    "density_list = []\n",
    "time_span = 900 # seconds\n",
    "time_interval = 60 # seconds\n",
    "\n",
    "for i in (file_numbers):\n",
    "    counts = []\n",
    "    densities = []\n",
    "    time_span = int(np.ceil(recordMeta_dict[f\"data_{i}\"][\"duration\"].iloc[0]))\n",
    "    for t in range(0, time_span, time_interval):\n",
    "        # Calculating Forward Traffic Flow\n",
    "        mask = (data_dict[f\"data_{i}\"][\"frame\"] >= t * recordMeta_dict[f\"data_{i}\"][\"frameRate\"][0]) & (data_dict[f\"data_{i}\"][\"frame\"] < (t + time_interval) * recordMeta_dict[f\"data_{i}\"][\"frameRate\"][0]) & (data_dict[f\"data_{i}\"][\"x\"] >= x1) & (data_dict[f\"data_{i}\"][\"x\"] <= x2)\n",
    "        vehicles = data_dict[f\"data_{i}\"][mask & (data_dict[f\"data_{i}\"][\"y\"] >= 0)][\"id\"].unique()\n",
    "        count = len(vehicles)\n",
    "        # Density Caculation Method in Aimsun\n",
    "        density = count * time_interval / lane_length *1000\n",
    "        counts.append(count)\n",
    "        densities.append(density)\n",
    "    density_list.extend(densities[:-1])"
   ]
  },
  {
   "cell_type": "code",
   "execution_count": 18,
   "metadata": {},
   "outputs": [
    {
     "data": {
      "text/plain": [
       "146"
      ]
     },
     "execution_count": 18,
     "metadata": {},
     "output_type": "execute_result"
    }
   ],
   "source": [
    "len(density_list)"
   ]
  },
  {
   "attachments": {},
   "cell_type": "markdown",
   "metadata": {},
   "source": [
    "## Calculation of Intensity"
   ]
  },
  {
   "cell_type": "code",
   "execution_count": 19,
   "metadata": {},
   "outputs": [],
   "source": [
    "pos = 0\n",
    "intensity_list = []\n",
    "\n",
    "for i in (file_numbers):\n",
    "    # Get necessary information\n",
    "    data_merged = pd.merge(data_dict[f\"data_{i}\"], trackMeta_dict[f\"data_{i}\"][[\"id\", \"class\", \"drivingDirection\"]], on=\"id\")\n",
    "    framerate = recordMeta_dict[f\"data_{i}\"][\"frameRate\"].iloc[0]\n",
    "    duration = int(np.ceil(recordMeta_dict[f\"data_{i}\"][\"duration\"].iloc[0]))\n",
    "    frames = int(np.ceil(duration/timestep))\n",
    "\n",
    "    # Extract needed parameters\n",
    "    frame = data_merged[\"frame\"]\n",
    "    x_pos = data_merged[\"x\"]\n",
    "    width = data_merged[\"width\"]\n",
    "    veh_type = data_merged[\"class\"]\n",
    "    direction = data_merged[\"drivingDirection\"]\n",
    "    num_data = len(frame)\n",
    "\n",
    "    # Initialize intensity lists\n",
    "    car_intensity = [0]*frames\n",
    "    truck_intensity = [0]*frames\n",
    "    intensity = [0]*frames\n",
    "    \n",
    "\n",
    "    # Add to list if car across line (x=0)\n",
    "    for j in range(num_data):\n",
    "        if x_pos[j]>=pos-(width[j]/2) and x_pos[j]<=pos+(width[j]/2) and direction[j]==1 and veh_type[j]==\"Car\":\n",
    "            k = frame[j] // (framerate*timestep)\n",
    "            car_intensity[k] += 1\n",
    "        elif x_pos[j]>=pos-(width[j]/2) and x_pos[j]<=pos+(width[j]/2) and direction[j]==1 and veh_type[j]==\"Truck\":\n",
    "            k = frame[j] // (framerate*timestep)\n",
    "            truck_intensity[k] += 1\n",
    "        if x_pos[j]>=pos-(width[j]/2) and x_pos[j]<=pos+(width[j]/2) and direction[j]==1:\n",
    "            k = frame[j] // (framerate*timestep)\n",
    "            intensity[k] += 1\n",
    "    intensity = intensity[:-1]\n",
    "    intensity_list.extend(intensity)\n",
    "\n",
    "    \n"
   ]
  },
  {
   "cell_type": "code",
   "execution_count": 20,
   "metadata": {},
   "outputs": [
    {
     "data": {
      "text/plain": [
       "146"
      ]
     },
     "execution_count": 20,
     "metadata": {},
     "output_type": "execute_result"
    }
   ],
   "source": [
    "len(intensity_list)"
   ]
  },
  {
   "attachments": {},
   "cell_type": "markdown",
   "metadata": {},
   "source": [
    "## Remove Outliers"
   ]
  },
  {
   "cell_type": "code",
   "execution_count": 21,
   "metadata": {},
   "outputs": [],
   "source": [
    "# from itertools import compress\n",
    "# deviation = 2\n",
    "\n",
    "# def remove_outlier(speed, intensity): # add density later\n",
    "#     speed_mean = np.mean(speed)\n",
    "#     speed_std = np.std(speed)\n",
    "#     not_outlier = (abs(speed-speed_mean)<deviation*speed_std)\n",
    "#     speed_no = list(compress(speed, not_outlier))\n",
    "\n",
    "#     intensity_mean = np.mean(intensity)\n",
    "#     intensity_std = np.std(intensity)\n",
    "#     not_outlier = (abs(intensity-intensity_mean)<deviation*intensity_std)\n",
    "#     intensity_no = list(compress(intensity, not_outlier))\n",
    "\n",
    "#     return speed_no, intensity_no\n",
    "\n",
    "# car_speed_no, car_intensity_no = remove_outlier(car_speed, car_intensity)\n",
    "# truck_speed_no, intensity_no = remove_outlier(truck_speed, intensity)\n"
   ]
  },
  {
   "attachments": {},
   "cell_type": "markdown",
   "metadata": {},
   "source": [
    "## Correlation Coefficients"
   ]
  },
  {
   "cell_type": "code",
   "execution_count": 22,
   "metadata": {},
   "outputs": [
    {
     "data": {
      "image/png": "[encoded data removed]",
      "text/plain": [
       "<Figure size 432x288 with 1 Axes>"
      ]
     },
     "metadata": {
      "needs_background": "light"
     },
     "output_type": "display_data"
    },
    {
     "name": "stdout",
     "output_type": "stream",
     "text": [
      "Correlation Coefficient (Density & Intensity): 0.49143310311041244\n"
     ]
    }
   ],
   "source": [
    "plt.scatter(density_list, intensity_list)\n",
    "plt.show()\n",
    "\n",
    "corrcoef_d_i=np.corrcoef(density_list, intensity_list)[0, 1]\n",
    "print(f\"Correlation Coefficient (Density & Intensity): {corrcoef_d_i}\")"
   ]
  },
  {
   "cell_type": "code",
   "execution_count": 23,
   "metadata": {},
   "outputs": [
    {
     "data": {
      "image/png": "[encoded data removed]",
      "text/plain": [
       "<Figure size 432x288 with 1 Axes>"
      ]
     },
     "metadata": {
      "needs_background": "light"
     },
     "output_type": "display_data"
    },
    {
     "name": "stdout",
     "output_type": "stream",
     "text": [
      "Correlation Coefficient (Car Speed & Intensity): 0.32273026607986943\n"
     ]
    }
   ],
   "source": [
    "plt.scatter(car_speed, truck_speed)\n",
    "plt.show()\n",
    "\n",
    "corrcoef_cv_tv=np.corrcoef(car_speed, truck_speed)[0, 1]\n",
    "print(f\"Correlation Coefficient (Car Speed & Intensity): {corrcoef_cv_tv}\")"
   ]
  },
  {
   "cell_type": "code",
   "execution_count": 38,
   "metadata": {},
   "outputs": [
    {
     "data": {
      "text/html": [
       "<div>\n",
       "<style scoped>\n",
       "    .dataframe tbody tr th:only-of-type {\n",
       "        vertical-align: middle;\n",
       "    }\n",
       "\n",
       "    .dataframe tbody tr th {\n",
       "        vertical-align: top;\n",
       "    }\n",
       "\n",
       "    .dataframe thead th {\n",
       "        text-align: right;\n",
       "    }\n",
       "</style>\n",
       "<table border=\"1\" class=\"dataframe\">\n",
       "  <thead>\n",
       "    <tr style=\"text-align: right;\">\n",
       "      <th></th>\n",
       "      <th>Car Speed</th>\n",
       "      <th>Truck Speed</th>\n",
       "      <th>Intensity</th>\n",
       "      <th>Density</th>\n",
       "    </tr>\n",
       "  </thead>\n",
       "  <tbody>\n",
       "    <tr>\n",
       "      <th>Car Speed</th>\n",
       "      <td>1</td>\n",
       "      <td>0.32273</td>\n",
       "      <td>-0.46702</td>\n",
       "      <td>-0.348012</td>\n",
       "    </tr>\n",
       "    <tr>\n",
       "      <th>Truck Speed</th>\n",
       "      <td>0.32273</td>\n",
       "      <td>1</td>\n",
       "      <td>-0.135673</td>\n",
       "      <td>-0.0632623</td>\n",
       "    </tr>\n",
       "    <tr>\n",
       "      <th>Intensity</th>\n",
       "      <td>-0.46702</td>\n",
       "      <td>-0.135673</td>\n",
       "      <td>1</td>\n",
       "      <td>0.491433</td>\n",
       "    </tr>\n",
       "    <tr>\n",
       "      <th>Density</th>\n",
       "      <td>-0.348012</td>\n",
       "      <td>-0.0632623</td>\n",
       "      <td>0.491433</td>\n",
       "      <td>1</td>\n",
       "    </tr>\n",
       "  </tbody>\n",
       "</table>\n",
       "</div>"
      ],
      "text/plain": [
       "            Car Speed Truck Speed Intensity    Density\n",
       "Car Speed           1     0.32273  -0.46702  -0.348012\n",
       "Truck Speed   0.32273           1 -0.135673 -0.0632623\n",
       "Intensity    -0.46702   -0.135673         1   0.491433\n",
       "Density     -0.348012  -0.0632623  0.491433          1"
      ]
     },
     "execution_count": 38,
     "metadata": {},
     "output_type": "execute_result"
    }
   ],
   "source": [
    "df = pd.DataFrame({\"Car Speed\": car_speed, \"Truck Speed\": truck_speed, \"Intensity\": intensity_list, \"Density\": density_list})\n",
    "features = [\"Car Speed\", \"Truck Speed\", \"Intensity\", \"Density\"]\n",
    "corr_df = pd.DataFrame(columns=features, index=features)\n",
    "for i in features:\n",
    "    for j in features:\n",
    "        coef = np.corrcoef(df[i], df[j])[0, 1]\n",
    "        corr_df[i][j] = coef\n",
    "corr_df.head()\n"
   ]
  },
  {
   "attachments": {},
   "cell_type": "markdown",
   "metadata": {},
   "source": [
    "## Principle Component Analysis"
   ]
  },
  {
   "cell_type": "code",
   "execution_count": 39,
   "metadata": {},
   "outputs": [
    {
     "name": "stdout",
     "output_type": "stream",
     "text": [
      "              0          1      2             3\n",
      "0    119.964007  86.391518  156.0  11571.428571\n",
      "1    115.454683  88.546352  119.0  11000.000000\n",
      "2    119.220209  85.761294  123.0  12285.714286\n",
      "3     98.564912  84.117654  269.0  14428.571429\n",
      "4    106.146305  81.422136  162.0  14285.714286\n",
      "..          ...        ...    ...           ...\n",
      "141  124.703406  88.398492  132.0   7285.714286\n",
      "142  115.426568  85.606322  143.0   9428.571429\n",
      "143  114.940004  87.590777  133.0  11142.857143\n",
      "144  118.610133  90.201644  168.0   9714.285714\n",
      "145  125.673296  87.745594  165.0  11714.285714\n",
      "\n",
      "[146 rows x 4 columns]\n"
     ]
    },
    {
     "data": {
      "image/png": "[encoded data removed]",
      "text/plain": [
       "<Figure size 432x288 with 1 Axes>"
      ]
     },
     "metadata": {
      "needs_background": "light"
     },
     "output_type": "display_data"
    },
    {
     "name": "stdout",
     "output_type": "stream",
     "text": [
      "Explained Variance: [0.49197047 0.25123228]\n",
      "Loadings: [[-0.56212297 -0.30146534  0.57413151  0.51333169]\n",
      " [ 0.20563453  0.84034813  0.25811311  0.43000824]]\n"
     ]
    }
   ],
   "source": [
    "# Normalize data and convert to matrix\n",
    "\n",
    "truck_df = pd.DataFrame([car_speed, truck_speed, intensity_list, density_list]).T\n",
    "print(truck_df)\n",
    "for col in truck_df.columns:\n",
    "    truck_df[col] = (truck_df[col]-truck_df[col].mean())/truck_df[col].std()\n",
    "truck_df = truck_df.dropna(axis=\"columns\")\n",
    "truck_mat = np.matrix(truck_df)\n",
    "\n",
    "# Run PCA for trucks\n",
    "truck_pca = PCA(n_components=2)\n",
    "truck_pca.fit_transform(truck_mat)\n",
    "fig, ax = plt.subplots()\n",
    "\n",
    "# plot arrows representing the original features\n",
    "feature_vectors = truck_pca.components_.T * np.sqrt(truck_pca.explained_variance_)\n",
    "arrow_size, text_pos = 7.0, 8.0\n",
    "for i, v in enumerate(feature_vectors):\n",
    "    ax.arrow(0, 0, arrow_size*v[0], arrow_size*v[1], head_width=0.2, head_length=0.2, linewidth=2, color='red')\n",
    "    ax.text(v[0]*text_pos, v[1]*text_pos, f\"Feature {i+1}\", color='black', ha='center', va='center', fontsize=12)\n",
    "\n",
    "# set axis labels and plot title\n",
    "axes = 10\n",
    "ax.set_xlabel('PC1')\n",
    "ax.set_ylabel('PC2')\n",
    "ax.set_title('PCA plot')\n",
    "ax.set_xlim([-axes, axes])\n",
    "ax.set_ylim([-axes, axes])\n",
    "plt.show()\n",
    "print(f\"Explained Variance: {truck_pca.explained_variance_ratio_}\")\n",
    "print(f\"Loadings: {truck_pca.components_}\")\n",
    "\n"
   ]
  },
  {
   "cell_type": "code",
   "execution_count": null,
   "metadata": {},
   "outputs": [],
   "source": []
  }
 ],
 "metadata": {
  "kernelspec": {
   "display_name": "Ryo",
   "language": "python",
   "name": "python3"
  },
  "language_info": {
   "codemirror_mode": {
    "name": "ipython",
    "version": 3
   },
   "file_extension": ".py",
   "mimetype": "text/x-python",
   "name": "python",
   "nbconvert_exporter": "python",
   "pygments_lexer": "ipython3",
   "version": "3.8.5"
  },
  "orig_nbformat": 4
 },
 "nbformat": 4,
 "nbformat_minor": 2
}
