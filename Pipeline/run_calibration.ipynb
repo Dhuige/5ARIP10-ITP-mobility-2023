{
 "cells": [
  {
   "attachments": {},
   "cell_type": "markdown",
   "metadata": {},
   "source": [
    "# Run Calibration\n",
    "To run the calibration one has to perform the following cells:\n",
    "1. load the packages\n",
    "2. create aimsun_calibration class\n",
    "3. optional: load the data from diction\n",
    "4. run the calibration (new parameters are returned and have to be filled in Aimsun Next)\n",
    "5. check results if the calibration was successful"
   ]
  },
  {
   "cell_type": "code",
   "execution_count": 1,
   "metadata": {},
   "outputs": [],
   "source": [
    "from PartialAutomationKL import *\n",
    "import numpy as np"
   ]
  },
  {
   "cell_type": "code",
   "execution_count": 4,
   "metadata": {},
   "outputs": [
    {
     "name": "stdout",
     "output_type": "stream",
     "text": [
      "Results file is being read\n"
     ]
    }
   ],
   "source": [
    "aimsun_calibration = KL_automation('TwoLaneConcept_3.sqlite','TwoLaneConcept_4.sqlite')"
   ]
  },
  {
   "cell_type": "code",
   "execution_count": 19,
   "metadata": {},
   "outputs": [
    {
     "data": {
      "text/plain": [
       "[127.45594613314472,\n",
       " 89.54262303940499,\n",
       " 2.9370555807064447,\n",
       " 1.0174961387853716,\n",
       " 3.998176522412153,\n",
       " 2.9950174477347202,\n",
       " 0.4747478345290675,\n",
       " 0.5388915159426261,\n",
       " 1.018308694139538,\n",
       " 1.0847887266366465,\n",
       " 496.45143508730956,\n",
       " 87.36831032713914,\n",
       " 2.14844885898611,\n",
       " 2.110092642340981]"
      ]
     },
     "execution_count": 19,
     "metadata": {},
     "output_type": "execute_result"
    }
   ],
   "source": [
    "# Read from dict <-> Results file.\n",
    "aimsun_calibration.load_from_dict(12)\n",
    "aimsun_calibration.params"
   ]
  },
  {
   "cell_type": "code",
   "execution_count": 20,
   "metadata": {},
   "outputs": [
    {
     "name": "stdout",
     "output_type": "stream",
     "text": [
      "[CarMaxdesiredSpeed, TruckMaxdesiredSpeed, CarMaxAcceleration, TruckMaxAccerlation,\n",
      " CarNormalDeceleration, TruckNormalDeceleration, CarSensitivityFactor, TruckSensistivityFactor,\n",
      " CarReactionTime, TruckReactionTime, CarVehicleDemand, TruckVehicleDemand,\n",
      " CarGap, TruckGap]\n",
      "\n",
      "manual input of gradient parameters:\n",
      "  [1.26574705e+02 9.23994460e+01 2.98903548e+00 1.08243099e+00\n",
      " 3.97731693e+00 3.08474661e+00 4.86583412e-01 5.27915185e-01\n",
      " 9.80956281e-01 1.11938138e+00 5.05468138e+02 9.13345682e+01\n",
      " 2.32652561e+00 2.03460652e+00] \n",
      " [1.28337187e+02 8.66858001e+01 2.88507568e+00 9.52561288e-01\n",
      " 4.01903612e+00 2.90528829e+00 4.62912257e-01 5.49867847e-01\n",
      " 1.05566111e+00 1.05019607e+00 4.87434733e+02 8.34020525e+01\n",
      " 1.97037211e+00 2.18557876e+00]\n",
      "updated parameters [1.27455989e+02 8.95426362e+01 2.93778017e+00 1.01807616e+00\n",
      " 3.99998211e+00 2.99543720e+00 4.77930095e-01 5.42322889e-01\n",
      " 1.01931703e+00 1.08587751e+00 4.96451439e+02 8.73683198e+01\n",
      " 2.14866036e+00 2.11059159e+00]\n",
      "With Loss: [0.12282861292538454, 0.0020506218098476567, 3.291613424047526, 0.6181948133185592, 0.7837681324553705]\n"
     ]
    }
   ],
   "source": [
    "aimsun_calibration.SPSA_Iteration()"
   ]
  },
  {
   "cell_type": "code",
   "execution_count": 3,
   "metadata": {},
   "outputs": [
    {
     "data": {
      "text/html": [
       "<div>\n",
       "<style scoped>\n",
       "    .dataframe tbody tr th:only-of-type {\n",
       "        vertical-align: middle;\n",
       "    }\n",
       "\n",
       "    .dataframe tbody tr th {\n",
       "        vertical-align: top;\n",
       "    }\n",
       "\n",
       "    .dataframe thead th {\n",
       "        text-align: right;\n",
       "    }\n",
       "</style>\n",
       "<table border=\"1\" class=\"dataframe\">\n",
       "  <thead>\n",
       "    <tr style=\"text-align: right;\">\n",
       "      <th></th>\n",
       "      <th>CarMaxdesiredSpeed</th>\n",
       "      <th>TruckMaxdesiredSpeed</th>\n",
       "      <th>CarMaxAcceleration</th>\n",
       "      <th>TruckMaxAccerlation</th>\n",
       "      <th>CarNormalDeceleration</th>\n",
       "      <th>TruckNormalDeceleration</th>\n",
       "      <th>CarSensitivityFactor</th>\n",
       "      <th>TruckSensistivityFactor</th>\n",
       "      <th>CarReactionTime</th>\n",
       "      <th>TruckReactionTime</th>\n",
       "      <th>CarVehicleDemand</th>\n",
       "      <th>TruckVehicleDemand</th>\n",
       "      <th>CarGap</th>\n",
       "      <th>TruckGap</th>\n",
       "      <th>Loss</th>\n",
       "      <th>sumloss</th>\n",
       "    </tr>\n",
       "  </thead>\n",
       "  <tbody>\n",
       "    <tr>\n",
       "      <th>0</th>\n",
       "      <td>127.455946</td>\n",
       "      <td>89.542623</td>\n",
       "      <td>2.937056</td>\n",
       "      <td>1.017496</td>\n",
       "      <td>3.998177</td>\n",
       "      <td>2.995017</td>\n",
       "      <td>0.474748</td>\n",
       "      <td>0.538892</td>\n",
       "      <td>1.018309</td>\n",
       "      <td>1.084789</td>\n",
       "      <td>496.451435</td>\n",
       "      <td>87.368310</td>\n",
       "      <td>2.148449</td>\n",
       "      <td>2.110093</td>\n",
       "      <td>[0.14205574492161627, 0.011353494828867765, 4....</td>\n",
       "      <td>6.224840</td>\n",
       "    </tr>\n",
       "    <tr>\n",
       "      <th>1</th>\n",
       "      <td>125.472853</td>\n",
       "      <td>89.650529</td>\n",
       "      <td>2.951621</td>\n",
       "      <td>0.954572</td>\n",
       "      <td>3.966994</td>\n",
       "      <td>3.024787</td>\n",
       "      <td>0.487968</td>\n",
       "      <td>0.464719</td>\n",
       "      <td>0.975946</td>\n",
       "      <td>0.993904</td>\n",
       "      <td>505.677590</td>\n",
       "      <td>91.788282</td>\n",
       "      <td>2.162342</td>\n",
       "      <td>2.074919</td>\n",
       "      <td>[0.12106376273528482, -0.0019797676425806175, ...</td>\n",
       "      <td>6.201155</td>\n",
       "    </tr>\n",
       "    <tr>\n",
       "      <th>2</th>\n",
       "      <td>127.141619</td>\n",
       "      <td>87.626173</td>\n",
       "      <td>3.021540</td>\n",
       "      <td>1.012708</td>\n",
       "      <td>4.025872</td>\n",
       "      <td>2.976961</td>\n",
       "      <td>0.553362</td>\n",
       "      <td>0.455067</td>\n",
       "      <td>0.966590</td>\n",
       "      <td>0.951097</td>\n",
       "      <td>497.866020</td>\n",
       "      <td>93.766971</td>\n",
       "      <td>1.889997</td>\n",
       "      <td>1.959427</td>\n",
       "      <td>[0.12738745995612843, -0.015410420465308997, 4...</td>\n",
       "      <td>5.954044</td>\n",
       "    </tr>\n",
       "    <tr>\n",
       "      <th>3</th>\n",
       "      <td>130.183159</td>\n",
       "      <td>91.569193</td>\n",
       "      <td>2.869757</td>\n",
       "      <td>0.960397</td>\n",
       "      <td>4.077646</td>\n",
       "      <td>2.956909</td>\n",
       "      <td>0.485072</td>\n",
       "      <td>0.563058</td>\n",
       "      <td>1.012990</td>\n",
       "      <td>1.125814</td>\n",
       "      <td>487.023521</td>\n",
       "      <td>85.760285</td>\n",
       "      <td>2.222125</td>\n",
       "      <td>1.958755</td>\n",
       "      <td>[0.11540763852348843, -0.0007029891831265775, ...</td>\n",
       "      <td>6.905605</td>\n",
       "    </tr>\n",
       "    <tr>\n",
       "      <th>4</th>\n",
       "      <td>126.574705</td>\n",
       "      <td>92.399446</td>\n",
       "      <td>2.989035</td>\n",
       "      <td>1.082431</td>\n",
       "      <td>3.977317</td>\n",
       "      <td>3.084747</td>\n",
       "      <td>0.486583</td>\n",
       "      <td>0.527915</td>\n",
       "      <td>0.980956</td>\n",
       "      <td>1.119381</td>\n",
       "      <td>505.468138</td>\n",
       "      <td>91.334568</td>\n",
       "      <td>2.326526</td>\n",
       "      <td>2.034607</td>\n",
       "      <td>[0.12282861292538454, 0.0020506218098476567, 3...</td>\n",
       "      <td>4.818456</td>\n",
       "    </tr>\n",
       "  </tbody>\n",
       "</table>\n",
       "</div>"
      ],
      "text/plain": [
       "   CarMaxdesiredSpeed  TruckMaxdesiredSpeed  CarMaxAcceleration  \\\n",
       "0          127.455946             89.542623            2.937056   \n",
       "1          125.472853             89.650529            2.951621   \n",
       "2          127.141619             87.626173            3.021540   \n",
       "3          130.183159             91.569193            2.869757   \n",
       "4          126.574705             92.399446            2.989035   \n",
       "\n",
       "   TruckMaxAccerlation  CarNormalDeceleration  TruckNormalDeceleration  \\\n",
       "0             1.017496               3.998177                 2.995017   \n",
       "1             0.954572               3.966994                 3.024787   \n",
       "2             1.012708               4.025872                 2.976961   \n",
       "3             0.960397               4.077646                 2.956909   \n",
       "4             1.082431               3.977317                 3.084747   \n",
       "\n",
       "   CarSensitivityFactor  TruckSensistivityFactor  CarReactionTime  \\\n",
       "0              0.474748                 0.538892         1.018309   \n",
       "1              0.487968                 0.464719         0.975946   \n",
       "2              0.553362                 0.455067         0.966590   \n",
       "3              0.485072                 0.563058         1.012990   \n",
       "4              0.486583                 0.527915         0.980956   \n",
       "\n",
       "   TruckReactionTime  CarVehicleDemand  TruckVehicleDemand    CarGap  \\\n",
       "0           1.084789        496.451435           87.368310  2.148449   \n",
       "1           0.993904        505.677590           91.788282  2.162342   \n",
       "2           0.951097        497.866020           93.766971  1.889997   \n",
       "3           1.125814        487.023521           85.760285  2.222125   \n",
       "4           1.119381        505.468138           91.334568  2.326526   \n",
       "\n",
       "   TruckGap                                               Loss   sumloss  \n",
       "0  2.110093  [0.14205574492161627, 0.011353494828867765, 4....  6.224840  \n",
       "1  2.074919  [0.12106376273528482, -0.0019797676425806175, ...  6.201155  \n",
       "2  1.959427  [0.12738745995612843, -0.015410420465308997, 4...  5.954044  \n",
       "3  1.958755  [0.11540763852348843, -0.0007029891831265775, ...  6.905605  \n",
       "4  2.034607  [0.12282861292538454, 0.0020506218098476567, 3...  4.818456  "
      ]
     },
     "execution_count": 3,
     "metadata": {},
     "output_type": "execute_result"
    }
   ],
   "source": [
    "aimsun_calibration.results"
   ]
  }
 ],
 "metadata": {
  "kernelspec": {
   "display_name": "env310",
   "language": "python",
   "name": "python3"
  },
  "language_info": {
   "codemirror_mode": {
    "name": "ipython",
    "version": 3
   },
   "file_extension": ".py",
   "mimetype": "text/x-python",
   "name": "python",
   "nbconvert_exporter": "python",
   "pygments_lexer": "ipython3",
   "version": "3.9.16"
  },
  "orig_nbformat": 4
 },
 "nbformat": 4,
 "nbformat_minor": 2
}
